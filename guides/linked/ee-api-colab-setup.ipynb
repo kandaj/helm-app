{
  "nbformat": 4,
  "nbformat_minor": 0,
  "metadata": {
    "colab": {
      "name": "ee-api-colab-setup.ipynb",
      "provenance": [],
      "toc_visible": true
    },
    "kernelspec": {
      "name": "python3",
      "display_name": "Python 3"
    }
  },
  "cells": [
    {
      "cell_type": "code",
      "source": [
        "!pip install fpdf"
      ],
      "metadata": {
        "id": "ZVPpiWrbd9kA",
        "outputId": "a24cc6e8-c954-4e88-c2c6-20ca993e7158",
        "colab": {
          "base_uri": "https://localhost:8080/"
        }
      },
      "execution_count": 6,
      "outputs": [
        {
          "output_type": "stream",
          "name": "stdout",
          "text": [
            "Requirement already satisfied: fpdf in /usr/local/lib/python3.11/dist-packages (1.7.2)\n"
          ]
        }
      ]
    },
    {
      "cell_type": "code",
      "source": [
        "import ee\n",
        "import geopandas as gpd\n",
        "import matplotlib.pyplot as plt\n",
        "from shapely.geometry import Point, Polygon\n",
        "from fpdf import FPDF\n",
        "\n",
        "ee.Authenticate()\n",
        "ee.Initialize(project='resolute-return-377811')\n",
        "\n",
        "# Define Norfolk Broads wetland locations\n",
        "locations = [\n",
        "    (52.7384, 1.5812),  # Hickling Broad\n",
        "    (52.6160, 1.4675),  # Strumpshaw Fen\n",
        "    (52.6765, 1.4682),  # Ranworth Broad\n",
        "    (52.7590, 1.4864),  # Barton Broad\n",
        "    (52.7413, 1.6448)   # Horsey Mere\n",
        "]\n",
        "\n",
        "# Create GeoDataFrame\n",
        "points = gpd.GeoDataFrame({'geometry': [Point(lon, lat) for lat, lon in locations]})\n",
        "\n",
        "# Compute Convex Hull\n",
        "convex_hull = points.unary_union.convex_hull\n",
        "\n",
        "# Create 50 km buffer\n",
        "buffered_hull = convex_hull.buffer(50000 / 111320)  # Approximate conversion from meters to degrees\n",
        "\n",
        "# Get water bodies layer from GEE\n",
        "water_layer = ee.FeatureCollection(\"GLCF/GLS_WATER\")\n",
        "\n",
        "# Convert hull to GEE geometry\n",
        "hull_geometry = ee.Geometry.Polygon(list(convex_hull.exterior.coords))\n",
        "\n",
        "# Filter water bodies within the convex hull\n",
        "water_within_hull = water_layer.filterBounds(hull_geometry)\n",
        "\n",
        "# Convert to GeoJSON for plotting\n",
        "geojson = water_within_hull.getInfo()\n",
        "print(geojson)\n",
        "water_shapes = [\n",
        "    Polygon(feature['geometry']['coordinates'][0])\n",
        "    for feature in geojson['features']\n",
        "]\n",
        "\n",
        "# Plot\n",
        "fig, ax = plt.subplots(figsize=(8, 8))\n",
        "gpd.GeoSeries([convex_hull]).plot(\n",
        "    ax=ax, edgecolor='red', facecolor='none', linewidth=2, label='Convex Hull'\n",
        ")\n",
        "gpd.GeoSeries([buffered_hull]).plot(ax=ax, edgecolor='blue', facecolor='none', linestyle='dashed', label='50 km Buffer')\n",
        "gpd.GeoSeries(water_shapes).plot(ax=ax, color='cyan', alpha=0.5, label='Water Bodies')\n",
        "points.plot(ax=ax, color='black', marker='o', label='Wetland Locations')\n",
        "ax.legend()\n",
        "ax.set_title(\"Wetland Analysis - Norfolk Broads\")\n",
        "plt.savefig(\"wetland_map.pdf\")\n",
        "plt.show()\n",
        "\n",
        "# Create PDF report\n",
        "pdf = FPDF()\n",
        "pdf.add_page()\n",
        "pdf.set_font(\"Arial\", size=12)\n",
        "pdf.cell(200, 10, \"Wetland Analysis - Norfolk Broads\", ln=True, align='C')\n",
        "pdf.image(\"wetland_map.pdf\", x=10, y=30, w=180)\n",
        "pdf.output(\"wetland_report.pdf\")\n",
        "\n",
        "print(\"PDF report generated: wetland_report.pdf\")\n"
      ],
      "metadata": {
        "id": "2dCXbAnmd97J",
        "outputId": "edfb5ff7-0031-41f8-ab36-2f04687c79d7",
        "colab": {
          "base_uri": "https://localhost:8080/",
          "height": 396
        }
      },
      "execution_count": 7,
      "outputs": [
        {
          "output_type": "stream",
          "name": "stderr",
          "text": [
            "<ipython-input-7-90fc0837a3b3>:23: DeprecationWarning: The 'unary_union' attribute is deprecated, use the 'union_all()' method instead.\n",
            "  convex_hull = points.unary_union.convex_hull\n"
          ]
        },
        {
          "output_type": "error",
          "ename": "KeyError",
          "evalue": "'geometry'",
          "traceback": [
            "\u001b[0;31m---------------------------------------------------------------------------\u001b[0m",
            "\u001b[0;31mKeyError\u001b[0m                                  Traceback (most recent call last)",
            "\u001b[0;32m<ipython-input-7-90fc0837a3b3>\u001b[0m in \u001b[0;36m<cell line: 0>\u001b[0;34m()\u001b[0m\n\u001b[1;32m     37\u001b[0m \u001b[0;31m# Convert to GeoJSON for plotting\u001b[0m\u001b[0;34m\u001b[0m\u001b[0;34m\u001b[0m\u001b[0m\n\u001b[1;32m     38\u001b[0m \u001b[0mgeojson\u001b[0m \u001b[0;34m=\u001b[0m \u001b[0mwater_within_hull\u001b[0m\u001b[0;34m.\u001b[0m\u001b[0mgetInfo\u001b[0m\u001b[0;34m(\u001b[0m\u001b[0;34m)\u001b[0m\u001b[0;34m\u001b[0m\u001b[0;34m\u001b[0m\u001b[0m\n\u001b[0;32m---> 39\u001b[0;31m water_shapes = [\n\u001b[0m\u001b[1;32m     40\u001b[0m     \u001b[0mPolygon\u001b[0m\u001b[0;34m(\u001b[0m\u001b[0mfeature\u001b[0m\u001b[0;34m[\u001b[0m\u001b[0;34m'geometry'\u001b[0m\u001b[0;34m]\u001b[0m\u001b[0;34m[\u001b[0m\u001b[0;34m'coordinates'\u001b[0m\u001b[0;34m]\u001b[0m\u001b[0;34m[\u001b[0m\u001b[0;36m0\u001b[0m\u001b[0;34m]\u001b[0m\u001b[0;34m)\u001b[0m\u001b[0;34m\u001b[0m\u001b[0;34m\u001b[0m\u001b[0m\n\u001b[1;32m     41\u001b[0m     \u001b[0;32mfor\u001b[0m \u001b[0mfeature\u001b[0m \u001b[0;32min\u001b[0m \u001b[0mgeojson\u001b[0m\u001b[0;34m[\u001b[0m\u001b[0;34m'features'\u001b[0m\u001b[0;34m]\u001b[0m\u001b[0;34m\u001b[0m\u001b[0;34m\u001b[0m\u001b[0m\n",
            "\u001b[0;32m<ipython-input-7-90fc0837a3b3>\u001b[0m in \u001b[0;36m<listcomp>\u001b[0;34m(.0)\u001b[0m\n\u001b[1;32m     38\u001b[0m \u001b[0mgeojson\u001b[0m \u001b[0;34m=\u001b[0m \u001b[0mwater_within_hull\u001b[0m\u001b[0;34m.\u001b[0m\u001b[0mgetInfo\u001b[0m\u001b[0;34m(\u001b[0m\u001b[0;34m)\u001b[0m\u001b[0;34m\u001b[0m\u001b[0;34m\u001b[0m\u001b[0m\n\u001b[1;32m     39\u001b[0m water_shapes = [\n\u001b[0;32m---> 40\u001b[0;31m     \u001b[0mPolygon\u001b[0m\u001b[0;34m(\u001b[0m\u001b[0mfeature\u001b[0m\u001b[0;34m[\u001b[0m\u001b[0;34m'geometry'\u001b[0m\u001b[0;34m]\u001b[0m\u001b[0;34m[\u001b[0m\u001b[0;34m'coordinates'\u001b[0m\u001b[0;34m]\u001b[0m\u001b[0;34m[\u001b[0m\u001b[0;36m0\u001b[0m\u001b[0;34m]\u001b[0m\u001b[0;34m)\u001b[0m\u001b[0;34m\u001b[0m\u001b[0;34m\u001b[0m\u001b[0m\n\u001b[0m\u001b[1;32m     41\u001b[0m     \u001b[0;32mfor\u001b[0m \u001b[0mfeature\u001b[0m \u001b[0;32min\u001b[0m \u001b[0mgeojson\u001b[0m\u001b[0;34m[\u001b[0m\u001b[0;34m'features'\u001b[0m\u001b[0;34m]\u001b[0m\u001b[0;34m\u001b[0m\u001b[0;34m\u001b[0m\u001b[0m\n\u001b[1;32m     42\u001b[0m ]\n",
            "\u001b[0;31mKeyError\u001b[0m: 'geometry'"
          ]
        }
      ]
    }
  ]
}